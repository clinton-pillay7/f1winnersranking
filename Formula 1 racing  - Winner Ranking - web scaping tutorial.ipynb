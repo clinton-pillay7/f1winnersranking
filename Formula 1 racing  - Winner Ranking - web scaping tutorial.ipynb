{
 "cells": [
  {
   "cell_type": "code",
   "execution_count": 1,
   "metadata": {},
   "outputs": [],
   "source": [
    "#import necessary modules\n",
    "\n",
    "from bs4 import BeautifulSoup\n",
    "import requests\n",
    "import pandas as pd\n",
    "from pandas import DataFrame\n",
    "import numpy as np"
   ]
  },
  {
   "cell_type": "code",
   "execution_count": 2,
   "metadata": {},
   "outputs": [],
   "source": [
    "# url to scrape from\n",
    "\n",
    "wiki_url = \"https://en.wikipedia.org/wiki/List_of_Formula_One_Grand_Prix_winners\""
   ]
  },
  {
   "cell_type": "code",
   "execution_count": 3,
   "metadata": {},
   "outputs": [],
   "source": [
    "#quering the website\n",
    "\n",
    "response = requests.get(wiki_url)"
   ]
  },
  {
   "cell_type": "code",
   "execution_count": 4,
   "metadata": {},
   "outputs": [],
   "source": [
    "#parsing the above object with beautiful soup\n",
    "\n",
    "soup = BeautifulSoup(response.text, 'html.parser')"
   ]
  },
  {
   "cell_type": "code",
   "execution_count": 5,
   "metadata": {},
   "outputs": [],
   "source": [
    "#specify the table to use\n",
    "\n",
    "table=soup.find('table', {\"class\":'sortable plainrowheaders wikitable'})"
   ]
  },
  {
   "cell_type": "code",
   "execution_count": 7,
   "metadata": {},
   "outputs": [],
   "source": [
    "# since the column headers are in the tr tags, we find all tr tags for the column name row\n",
    "\n",
    "rows = table.find_all('tr')"
   ]
  },
  {
   "cell_type": "code",
   "execution_count": 8,
   "metadata": {},
   "outputs": [],
   "source": [
    "# seach for the column names, clean the escape characters, and assign to the column variable\n",
    "\n",
    "columns = [v.text.replace('\\n', '') for v in rows[0].find_all('th')]\n"
   ]
  },
  {
   "cell_type": "code",
   "execution_count": 9,
   "metadata": {},
   "outputs": [
    {
     "name": "stdout",
     "output_type": "stream",
     "text": [
      "['Rank', 'Country', 'Driver', 'Wins', 'Seasons active', 'First win', 'Last win']\n"
     ]
    }
   ],
   "source": [
    "# view the column variable, with the column names collected\n",
    "\n",
    "print(columns)\n"
   ]
  },
  {
   "cell_type": "code",
   "execution_count": 10,
   "metadata": {},
   "outputs": [],
   "source": [
    "\n",
    "# create a empty dataframe\n",
    "df = pd.DataFrame()\n",
    "\n",
    "\n",
    "# collect all row data, - every interation, it will append the data as a new row to the dataframe. \n",
    "\n",
    "for i in range(1, len(rows)): \n",
    "    tds = rows[i].find_all('td')\n",
    "    if len(tds) == 6:\n",
    "        values = [tds[0].text.replace('\\n', ''), tds[1].text.replace('\\n', \"\").replace('\\xa0', \"\"), tds[2].text.replace('\\n', ''),tds[3].text.replace('\\n', ''),tds[4].text.replace('\\n', ''),tds[5].text.replace('\\n', '')]\n",
    "    else: \n",
    "        values = [td.text.replace('\\n', \"\").replace('\\xa0', \"\") for td in tds]\n",
    "    \n",
    "    df = df.append(pd.Series(values),ignore_index = True)\n",
    "    \n",
    "\n",
    "df.columns = ['Rank', 'Country', 'Wins', 'Seasons active', 'First win', 'Last win']\n",
    "\n"
   ]
  },
  {
   "cell_type": "code",
   "execution_count": 11,
   "metadata": {
    "scrolled": false
   },
   "outputs": [],
   "source": [
    "# since the drivers wasnt being collected becuase it was written in the th tag, the below for loop will collect the data \n",
    "# from the drivers column and append it to the a list. \n",
    "\n",
    "a = []\n",
    "for i in range(len(rows)):\n",
    "    drivers = [v.text.replace('\\n', '') for v in rows[i].find_all('th')]\n",
    "    a.append(drivers)\n"
   ]
  },
  {
   "cell_type": "code",
   "execution_count": 12,
   "metadata": {},
   "outputs": [],
   "source": [
    "#deleting the row headers from the drivers list collected, only require drivers column. \n",
    "del a[0]"
   ]
  },
  {
   "cell_type": "code",
   "execution_count": 13,
   "metadata": {},
   "outputs": [],
   "source": [
    "#np.squeeze(a)"
   ]
  },
  {
   "cell_type": "code",
   "execution_count": 14,
   "metadata": {},
   "outputs": [],
   "source": [
    "#clean the python list, moving all values into the list by itself, as opposed to each element being in its own array\n",
    "# driversarray = [[1],[2],[3]] ---> driversarray = [1,2,3]\n",
    "\n",
    "driversarray = []\n",
    "for i in range(len(a)): \n",
    "    temp = a[i][0]\n",
    "    driversarray.append(temp)\n"
   ]
  },
  {
   "cell_type": "code",
   "execution_count": 15,
   "metadata": {},
   "outputs": [],
   "source": [
    "#adding the drivers list collected to the remainder of the table scraped.\n",
    "\n",
    "df['drivers'] = driversarray\n"
   ]
  },
  {
   "cell_type": "code",
   "execution_count": null,
   "metadata": {},
   "outputs": [],
   "source": []
  },
  {
   "cell_type": "code",
   "execution_count": 16,
   "metadata": {},
   "outputs": [],
   "source": [
    "#converting it to csv for sharing\n",
    "\n",
    "df.to_csv('winning.csv')"
   ]
  },
  {
   "cell_type": "code",
   "execution_count": null,
   "metadata": {},
   "outputs": [],
   "source": []
  }
 ],
 "metadata": {
  "kernelspec": {
   "display_name": "Python 3",
   "language": "python",
   "name": "python3"
  },
  "language_info": {
   "codemirror_mode": {
    "name": "ipython",
    "version": 3
   },
   "file_extension": ".py",
   "mimetype": "text/x-python",
   "name": "python",
   "nbconvert_exporter": "python",
   "pygments_lexer": "ipython3",
   "version": "3.7.8"
  }
 },
 "nbformat": 4,
 "nbformat_minor": 4
}
